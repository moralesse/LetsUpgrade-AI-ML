{
 "cells": [
  {
   "cell_type": "code",
   "execution_count": 1,
   "metadata": {},
   "outputs": [
    {
     "name": "stdout",
     "output_type": "stream",
     "text": [
      "enter first complex number, n1 in the form a+bj: 2+3j\n",
      "enter second complex number, n2 in the form a+bj: 2-j\n",
      "n1 plus n2 =  (4+2j)\n",
      "n1 minus n2 =  4j\n",
      "n1 multiplied n2 =  (7+4j)\n",
      "n1 divide by n2 =  (0.2+1.6j)\n",
      "Modulo operation not valid for complex numbers\n",
      "Floor division not valid for complex numbers\n"
     ]
    }
   ],
   "source": [
    "#Question 1\n",
    "n1=complex(input(\"enter first complex number, n1 in the form a+bj: \"))\n",
    "n2=complex(input(\"enter second complex number, n2 in the form a+bj: \"))\n",
    "print(\"n1 plus n2 = \", n1+n2)\n",
    "print(\"n1 minus n2 = \", n1-n2)\n",
    "print(\"n1 multiplied n2 = \", n1*n2)\n",
    "print(\"n1 divide by n2 = \",n1/n2)\n",
    "try:\n",
    "    print(\"modulo operation gives \",n1%n2)\n",
    "except:\n",
    "    print('Modulo operation not valid for complex numbers')\n",
    "try:\n",
    "    print(\"floor division = \",n1//n2)\n",
    "except:\n",
    "    print(\"Floor division not valid for complex numbers\")"
   ]
  },
  {
   "cell_type": "markdown",
   "metadata": {},
   "source": [
    "Question 2\n",
    "Python range() function\n",
    "The range function is used to generate intergers between a start value, a and a stop value, b using a step c. \n",
    "All three parameters or arguements are intergers. \n",
    "Parameters a, and c are optional while b is required.\n",
    "When the start and step parameters are omitted, python uses their default values 0 and 1 respectively."
   ]
  },
  {
   "cell_type": "code",
   "execution_count": null,
   "metadata": {},
   "outputs": [],
   "source": [
    "#Question 2 Example\n",
    "x = range(1, 10)\n",
    "for i in x:\n",
    "  print(i)"
   ]
  },
  {
   "cell_type": "code",
   "execution_count": 2,
   "metadata": {},
   "outputs": [
    {
     "name": "stdout",
     "output_type": "stream",
     "text": [
      "Enter first number: 34\n",
      "Enter second number: 5\n",
      "Multiplying both numbers gives  170.0\n"
     ]
    }
   ],
   "source": [
    "#Question 3\n",
    "x1 = float(input(\"Enter first number: \"))\n",
    "x2 = float(input(\"Enter second number: \"))\n",
    "if x1 - x2 > 25:\n",
    "    print(\"Multiplying both numbers gives \",x1 * x2 )\n",
    "else:\n",
    "    print(\"x1 divided by x2 = \",x1/x2)"
   ]
  },
  {
   "cell_type": "code",
   "execution_count": 3,
   "metadata": {},
   "outputs": [
    {
     "name": "stdout",
     "output_type": "stream",
     "text": [
      "Enter a list of 10 integers separated by space 12 3 4 16 53 7 2 10 9 17\n",
      "[142, 3, 14, 254, 53, 7, 2, 98, 9, 17]\n"
     ]
    }
   ],
   "source": [
    "#Question 4\n",
    "x1 = input(\"Enter a list of 10 integers separated by space \")\n",
    "x = x1.split()\n",
    "x = list(map(int, x))\n",
    "x2 = x[:]\n",
    "for i in range(len(x)-1):\n",
    "    if x[i]%2 == 0:\n",
    "        x2[i] = (x[i]**2) - 2\n",
    "    else:\n",
    "        x2[i] = x[i]\n",
    "print(x2)3\n",
    "    "
   ]
  },
  {
   "cell_type": "code",
   "execution_count": null,
   "metadata": {},
   "outputs": [],
   "source": [
    "#Question 5\n",
    "x = input(\"Enter any 10 numbers separated by space \")\n",
    "x = x1.split()\n",
    "x = list(map(int, x))\n",
    "print(\"Elements in the list that are greater than 7 when divided by 2, include\")\n",
    "for i in range(len(x)-1):\n",
    "    if (x[i]/2.) > 7:\n",
    "        print(x[i]) "
   ]
  },
  {
   "cell_type": "code",
   "execution_count": null,
   "metadata": {},
   "outputs": [],
   "source": []
  }
 ],
 "metadata": {
  "kernelspec": {
   "display_name": "Python 3",
   "language": "python",
   "name": "python3"
  },
  "language_info": {
   "codemirror_mode": {
    "name": "ipython",
    "version": 3
   },
   "file_extension": ".py",
   "mimetype": "text/x-python",
   "name": "python",
   "nbconvert_exporter": "python",
   "pygments_lexer": "ipython3",
   "version": "3.7.1"
  }
 },
 "nbformat": 4,
 "nbformat_minor": 2
}
