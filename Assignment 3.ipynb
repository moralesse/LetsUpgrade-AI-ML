{
 "cells": [
  {
   "cell_type": "code",
   "execution_count": null,
   "metadata": {},
   "outputs": [],
   "source": [
    "#Question 1. Write a Python program to find the first 20 non-even prime natural numbers.\n",
    "\n",
    "import math\n",
    "\n",
    "number = 100\n",
    "\n",
    "primes = []\n",
    "for i in range(2,number):\n",
    "    primes.append(i)\n",
    "\n",
    "i = 2\n",
    "#from 2 to sqrt(number)\n",
    "while(i <= int(math.sqrt(number))):\n",
    "    #if i is in list\n",
    "    #then we gotta delete its multiples\n",
    "    if i in primes:\n",
    "        #j will give multiples of i,\n",
    "        #starting from 2*i\n",
    "        for j in range(i*2, number+1, i):\n",
    "            if j in primes:\n",
    "                #deleting the multiple if found in list\n",
    "                primes.remove(j)\n",
    "    i = i+1\n",
    "primes.remove(2)\n",
    "while len(primes)>20:\n",
    "    primes.pop(-1)\n",
    "print (primes)"
   ]
  },
  {
   "cell_type": "code",
   "execution_count": null,
   "metadata": {},
   "outputs": [],
   "source": [
    "#Question 2. Write a Python program to implement 15 functions of string.\n",
    "\n",
    "x = input(\"Enter any string or sentence: \")\n",
    "print(x.capitalize())\n",
    "print(x.title())\n",
    "print(x.swapcase())\n",
    "print(x.upper())\n",
    "print(x.isalnum())\n",
    "print(x.casefold())\n",
    "print(x.isspace())\n",
    "print(x.isprintable())\n",
    "print(x.istitle())\n",
    "print(x.replace (\"j\", \"d\"))\n",
    "print(x.isalnum())\n",
    "print(x.isalpha())\n",
    "print(x.isprintable())\n",
    "print(x.isidentifier())\n",
    "print(x.isdecimal())"
   ]
  },
  {
   "cell_type": "code",
   "execution_count": null,
   "metadata": {
    "code_folding": []
   },
   "outputs": [],
   "source": [
    "#Question 3. Write a Python program to check if the given string is a Palindrome or Anagram or None of them.\n",
    "#Display the message accordingly to the user.\n",
    "\n",
    "x1 = str(input(\"Enter first string: \"))\n",
    "x2 = str(input(\"Enter second string: \"))\n",
    "x = x1[::-1]\n",
    "if (x==x1):\n",
    "        print(x1,\" is a palindrome\")\n",
    "else:\n",
    "        print(x1,\" is not a palindrome\")\n",
    "\n",
    "def anagramChecker(x1, x2): \n",
    "    if(sorted(x1)== sorted(x2)): \n",
    "        print(x1, \"and\", x2, \"are anagrams\")  \n",
    "    else: \n",
    "        print(x1, \"and\", x2, \"are not anagrams\")\n",
    "anagramChecker(x1,x2)"
   ]
  },
  {
   "cell_type": "code",
   "execution_count": null,
   "metadata": {},
   "outputs": [],
   "source": [
    "#Question 4. Write a Python's user defined function that removes all the additional characters from the string and converts it finally to lower case using built-in lower(). eg: If the string is \"Dr. Darshan Ingle@AI-ML Trainer\", then the output be \"drdarshaningleaimltrainer\".\n",
    "\n",
    "a = \"Dr. Darshan Ingle@AI-ML Trainer\"\n",
    "remChar = [\" \",\"@\",\"-\"]\n",
    "for i in remChar:\n",
    "    a = a.replace(i,\"\")\n",
    "print(a.lower())\n"
   ]
  },
  {
   "cell_type": "code",
   "execution_count": null,
   "metadata": {},
   "outputs": [],
   "source": []
  }
 ],
 "metadata": {
  "kernelspec": {
   "display_name": "Python 3",
   "language": "python",
   "name": "python3"
  },
  "language_info": {
   "codemirror_mode": {
    "name": "ipython",
    "version": 3
   },
   "file_extension": ".py",
   "mimetype": "text/x-python",
   "name": "python",
   "nbconvert_exporter": "python",
   "pygments_lexer": "ipython3",
   "version": "3.8.3"
  }
 },
 "nbformat": 4,
 "nbformat_minor": 2
}
