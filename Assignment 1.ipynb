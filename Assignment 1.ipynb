{
 "cells": [
  {
   "cell_type": "code",
   "execution_count": 1,
   "metadata": {},
   "outputs": [
    {
     "name": "stdout",
     "output_type": "stream",
     "text": [
      "enter first complex number: 3-6j\n",
      "enter second complex number: 0+2j\n",
      "Difference between the two complex numbers =  (3-8j)\n"
     ]
    }
   ],
   "source": [
    "#Question 1\n",
    "#Program to suntract two complex numbers\n",
    "n1=complex(input(\"enter first complex number: \"))\n",
    "n2=complex(input(\"enter second complex number: \"))\n",
    "print(\"Difference between the two complex numbers = \",n1-n2)"
   ]
  },
  {
   "cell_type": "code",
   "execution_count": 5,
   "metadata": {},
   "outputs": [
    {
     "name": "stdout",
     "output_type": "stream",
     "text": [
      "Enter number: 4\n",
      "The 4th root of n1 is  1.4142135623730951\n"
     ]
    }
   ],
   "source": [
    "#Question 2\n",
    "#Program to find the th root of a number\n",
    "n1=float(input(\"Enter number: \"))\n",
    "print(\"The 4th root of n1 is \",n1**0.25)"
   ]
  },
  {
   "cell_type": "code",
   "execution_count": 7,
   "metadata": {},
   "outputs": [
    {
     "name": "stdout",
     "output_type": "stream",
     "text": [
      "Enter first number: 23\n",
      "Enter second number: 10\n",
      "x1 after swapping: 10\n",
      "x2 after swapping: 23\n"
     ]
    }
   ],
   "source": [
    "#Question 3\n",
    "# Program to swap two numbers using temporary variables\n",
    "x1 = input('Enter first number: ')\n",
    "x2 = input('Enter second number: ')\n",
    "\n",
    "# create a temporary variable and swap the values\n",
    "temp = x1\n",
    "x1 = x2\n",
    "x2 = temp\n",
    "\n",
    "print('x1 after swapping: {}'.format(x1))\n",
    "print('x2 after swapping: {}'.format(x2))"
   ]
  },
  {
   "cell_type": "code",
   "execution_count": 8,
   "metadata": {},
   "outputs": [
    {
     "name": "stdout",
     "output_type": "stream",
     "text": [
      "Enter first number: 10\n",
      "Enter second number: 23\n",
      "x1 = 23\n",
      "x2 = 10\n"
     ]
    }
   ],
   "source": [
    "#Question 4\n",
    "# Program to swap two numbers without using temporary variables\n",
    "x1 = input('Enter first number: ')\n",
    "x2 = input('Enter second number: ')\n",
    "x1, x2 = x2, x1\n",
    "print(\"x1 =\", x1)\n",
    "print(\"x2 =\", x2)"
   ]
  },
  {
   "cell_type": "code",
   "execution_count": 13,
   "metadata": {},
   "outputs": [
    {
     "name": "stdout",
     "output_type": "stream",
     "text": [
      "Enter temperature in fahrenheit: 45\n",
      "45.0 F =  7.222222222222222  Celcius or  280.22222222222223 Kelvin\n"
     ]
    }
   ],
   "source": [
    "#Question 5\n",
    "f = float(input(\"Enter temperature in fahrenheit: \"))\n",
    "c = (f-32)/1.8\n",
    "k = c + 273\n",
    "print(f, \"F = \",c,\" Celcius or \",k,\"Kelvin\")"
   ]
  },
  {
   "cell_type": "code",
   "execution_count": 14,
   "metadata": {},
   "outputs": [
    {
     "name": "stdout",
     "output_type": "stream",
     "text": [
      "<class 'str'>\n",
      "<class 'float'>\n",
      "<class 'bool'>\n",
      "<class 'tuple'>\n",
      "<class 'list'>\n",
      "<class 'dict'>\n"
     ]
    }
   ],
   "source": [
    "x1 = \"Hello there\"\n",
    "x2 = 2.1\n",
    "x3 = True\n",
    "x4 = (20,\"cat\", 4.2)\n",
    "x5 = [20,\"cat\", 4.2]\n",
    "x6 = {\"John\":20,\"Jane\":15}\n",
    "x = (x1,x2,x3,x4,x5,x6)\n",
    "for i in x:\n",
    "    print(type(i))"
   ]
  },
  {
   "cell_type": "markdown",
   "metadata": {},
   "source": [
    "How to submit Assignments?\n",
    "1. Create a Github public repo and name it LetsUpgrade AI/ML\n",
    "2. Upload the files/solution in the repo in day wise manner.\n",
    "2. Copy the URL of the Folder of that day and paste in the Assignment Submission Form (Google Form)\n",
    "3. Make sure you are filling correct details in the Assignment Submission Form.\n",
    "4. All the drop-downs will be available till the week end only. i.e Previous weeks drop-down will disappear on each Sunday    11:59 PM\n",
    "5. You have to submit all the assignment given during the weekdays by respective SUNDAY 11:59 PM IST."
   ]
  }
 ],
 "metadata": {
  "kernelspec": {
   "display_name": "Python 3",
   "language": "python",
   "name": "python3"
  },
  "language_info": {
   "codemirror_mode": {
    "name": "ipython",
    "version": 3
   },
   "file_extension": ".py",
   "mimetype": "text/x-python",
   "name": "python",
   "nbconvert_exporter": "python",
   "pygments_lexer": "ipython3",
   "version": "3.7.1"
  }
 },
 "nbformat": 4,
 "nbformat_minor": 2
}
